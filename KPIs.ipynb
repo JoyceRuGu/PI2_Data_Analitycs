{
 "cells": [
  {
   "cell_type": "markdown",
   "metadata": {},
   "source": [
    "### 1. Reducir en un 10% la tasa de homicidios en siniestros viales de los últimos seis meses, en CABA, en comparación con la tasa de homicidios en siniestros viales del semestre anterior.\n",
    "Definimos a la tasa de homicidios en siniestros viales como el número de víctimas fatales en accidentes de tránsito por cada 100,000 habitantes en un área geográfica durante un período de tiempo específico. Su fórmula es: (Número de homicidios en siniestros viales / Población total) * 100,000"
   ]
  },
  {
   "cell_type": "markdown",
   "metadata": {},
   "source": [
    "Desarrollo del primer KPI \n",
    "Se tomaron como datos de refencia las proyecciones nacionales realizadas en CABA para el año 2021, teniendo en cuenta que la segmentación de la proyección anual es ejecutada a corte primero de julio. Se calcula la tasa de homicidio por semestres del año 2021, teniendo en cuenta el número total de la población para el semestre 1 del año 2021 y el semestre 2 del mismo año así: no. total de homicidios semestre/Población total 2021 * 100.000.\n",
    "Se identificó el total de homicidios durante el año y se presentaron los datos totales por semestres, finalmente se determinó el target como la tasa de homicidios esperada con una reducción del 10%.\n",
    "\n",
    "referencias <-https://www.indec.gob.ar/indec/web/Nivel4-Tema-2-24-84"
   ]
  },
  {
   "cell_type": "markdown",
   "metadata": {},
   "source": [
    "### 2. Reducir en un 7% la cantidad de accidentes mortales de motociclistas en el último año, en CABA, respecto al año anterior.\n",
    "Definimos a la cantidad de accidentes mortales de motociclistas en siniestros viales como el número absoluto de accidentes fatales en los que estuvieron involucradas víctimas que viajaban en moto en un determinado periodo temporal. Su fórmula para medir la evolución de los accidentes mortales con víctimas en moto es: (Número de accidentes mortales con víctimas en moto en el año anterior - Número de accidentes mortales con víctimas en moto en el año actual) / (Número de accidentes mortales con víctimas en moto en el año anterior) * 100"
   ]
  },
  {
   "cell_type": "markdown",
   "metadata": {},
   "source": [
    "Desarrollo del segundo KPI\n",
    "Se tomaron los datos de los siniestro viales que involucraban motocicleta, se calculó el total de víctimas (moto 2021). Posteriormente, se calculó la reducción porcentual esperada (7%) con respecto a la cantidad de siniestros mortales del año anterior. Hallando la variación porcentual entre años. "
   ]
  },
  {
   "cell_type": "code",
   "execution_count": null,
   "metadata": {},
   "outputs": [],
   "source": []
  }
 ],
 "metadata": {
  "language_info": {
   "name": "python"
  }
 },
 "nbformat": 4,
 "nbformat_minor": 2
}
